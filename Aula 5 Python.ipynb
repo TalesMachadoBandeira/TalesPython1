{
 "cells": [
  {
   "cell_type": "code",
   "execution_count": 30,
   "metadata": {},
   "outputs": [],
   "source": [
    "#Lista vazia\n",
    "L = []\n",
    "\n",
    "L = list() #Construtor de listas"
   ]
  },
  {
   "cell_type": "code",
   "execution_count": 31,
   "metadata": {},
   "outputs": [
    {
     "data": {
      "text/plain": [
       "3"
      ]
     },
     "execution_count": 31,
     "metadata": {},
     "output_type": "execute_result"
    }
   ],
   "source": [
    "#Lista com 3 elementos\n",
    "dias = [3, 1, 10]\n",
    "\n",
    "dias[0]"
   ]
  },
  {
   "cell_type": "code",
   "execution_count": 32,
   "metadata": {},
   "outputs": [
    {
     "data": {
      "text/plain": [
       "1"
      ]
     },
     "execution_count": 32,
     "metadata": {},
     "output_type": "execute_result"
    }
   ],
   "source": [
    "dias[1]"
   ]
  },
  {
   "cell_type": "code",
   "execution_count": 33,
   "metadata": {},
   "outputs": [
    {
     "data": {
      "text/plain": [
       "10"
      ]
     },
     "execution_count": 33,
     "metadata": {},
     "output_type": "execute_result"
    }
   ],
   "source": [
    "dias[2]"
   ]
  },
  {
   "cell_type": "code",
   "execution_count": 34,
   "metadata": {},
   "outputs": [
    {
     "data": {
      "text/plain": [
       "[7, 8, 9]"
      ]
     },
     "execution_count": 34,
     "metadata": {},
     "output_type": "execute_result"
    }
   ],
   "source": [
    "Z = [3,8,9]\n",
    "\n",
    "Z[0] = 7\n",
    "\n",
    "Z"
   ]
  },
  {
   "cell_type": "code",
   "execution_count": 35,
   "metadata": {},
   "outputs": [
    {
     "data": {
      "text/plain": [
       "[6, 7, 5, 8, 9]"
      ]
     },
     "execution_count": 35,
     "metadata": {},
     "output_type": "execute_result"
    }
   ],
   "source": [
    "V = [6,7,5,8,9]\n",
    "\n",
    "Z = V\n",
    "\n",
    "Z"
   ]
  },
  {
   "cell_type": "code",
   "execution_count": 43,
   "metadata": {},
   "outputs": [
    {
     "name": "stdout",
     "output_type": "stream",
     "text": [
      "True\n",
      "False\n",
      "[81, 82, 83]\n",
      "[5, 82, 83]\n"
     ]
    }
   ],
   "source": [
    "a = [81,82,83]\n",
    "b = a [:]  #cria um clone com fatia\n",
    "print(a == b)\n",
    "print(a is b)\n",
    "b[0] = 5\n",
    "print(a)\n",
    "print(b)"
   ]
  },
  {
   "cell_type": "code",
   "execution_count": 56,
   "metadata": {},
   "outputs": [
    {
     "name": "stdout",
     "output_type": "stream",
     "text": [
      "['b', 'c']\n",
      "['a', 'b', 'c', 'd']\n",
      "['d', 'e', 'f']\n",
      "['a', 'b', 'c', 'd', 'e', 'f']\n"
     ]
    }
   ],
   "source": [
    "uma_lista = ['a','b','c','d','e','f']\n",
    "print(uma_lista[1:3]) #lista do indice 1 ate o anterior a 3\n",
    "print(uma_lista[:4]) #lista de todos elementos anteriores a 4\n",
    "print(uma_lista[3:]) #lista de todos os ultimos ate o consecutivo indice 3\n",
    "print(uma_lista[:]) #copia da lista"
   ]
  },
  {
   "cell_type": "code",
   "execution_count": 63,
   "metadata": {},
   "outputs": [
    {
     "name": "stdout",
     "output_type": "stream",
     "text": [
      "3\n"
     ]
    }
   ],
   "source": [
    "a = [1,2,3]\n",
    "b = a[:]\n",
    "b[0] = 5\n",
    "print(a[2])"
   ]
  },
  {
   "cell_type": "code",
   "execution_count": 101,
   "metadata": {},
   "outputs": [
    {
     "data": {
      "text/plain": [
       "[76, 92.3, 'oi', True, 4, 76, 'pitomba', 76]"
      ]
     },
     "execution_count": 101,
     "metadata": {},
     "output_type": "execute_result"
    }
   ],
   "source": [
    "minhaLista = [76,92.3,\"oi\",True,4,76]\n",
    "minhaLista + [\"pitomba\",76]"
   ]
  },
  {
   "cell_type": "code",
   "execution_count": 104,
   "metadata": {},
   "outputs": [
    {
     "name": "stdout",
     "output_type": "stream",
     "text": [
      "[76, 92.3, 'oi', 'Cibele', True, 4, 76]\n"
     ]
    }
   ],
   "source": [
    "minhaLista = [76,92.3,\"oi\",True,4,76]\n",
    "\n",
    "minhaLista2 = [\"Cibele\"]\n",
    "\n",
    "print(minhaLista[0:3]+minhaLista2+minhaLista[3:])"
   ]
  },
  {
   "cell_type": "code",
   "execution_count": 117,
   "metadata": {},
   "outputs": [
    {
     "data": {
      "text/plain": [
       "[99, 76, 92.3, 'oi', True, 4, 76]"
      ]
     },
     "execution_count": 117,
     "metadata": {},
     "output_type": "execute_result"
    }
   ],
   "source": [
    "minhaLista = [76,92.3,\"oi\",True,4,76]\n",
    "\n",
    "[99]+minhaLista[:]"
   ]
  },
  {
   "cell_type": "code",
   "execution_count": 129,
   "metadata": {},
   "outputs": [
    {
     "name": "stdout",
     "output_type": "stream",
     "text": [
      "oi é o indice 2\n"
     ]
    }
   ],
   "source": [
    "minhaLista = [76,92.3,\"oi\",True,4,76]\n",
    "\n",
    "if(minhaLista[0] == \"oi\"):\n",
    "    print(\"oi é o indice 0\")\n",
    "elif(minhaLista[1] == \"oi\"):\n",
    "    print(\"oi é o indice 1\")\n",
    "elif(minhaLista[2] == \"oi\"):\n",
    "    print(\"oi é o indice 2\")\n",
    "elif(minhaLista[3] == \"oi\"):\n",
    "    print(\"oi é o indice 3\")\n",
    "elif(minhaLista[4] == \"oi\"):\n",
    "    print(\"oi é o indice 4\")\n",
    "elif(minhaLista[5] == \"oi\"):\n",
    "    print(\"oi é o indice 5\")\n",
    "else:\n",
    "    print(\"não existe indice com o formato 'oi'\")"
   ]
  },
  {
   "cell_type": "code",
   "execution_count": 149,
   "metadata": {},
   "outputs": [
    {
     "name": "stdout",
     "output_type": "stream",
     "text": [
      "[76, 92.3, 'oi', 4, 76]\n"
     ]
    }
   ],
   "source": [
    "minhaLista = [76,92.3,\"oi\",True,4,76]\n",
    "\n",
    "print(minhaLista[:3]+minhaLista[4:])"
   ]
  }
 ],
 "metadata": {
  "kernelspec": {
   "display_name": "Python 3",
   "language": "python",
   "name": "python3"
  },
  "language_info": {
   "codemirror_mode": {
    "name": "ipython",
    "version": 3
   },
   "file_extension": ".py",
   "mimetype": "text/x-python",
   "name": "python",
   "nbconvert_exporter": "python",
   "pygments_lexer": "ipython3",
   "version": "3.10.2"
  }
 },
 "nbformat": 4,
 "nbformat_minor": 2
}
