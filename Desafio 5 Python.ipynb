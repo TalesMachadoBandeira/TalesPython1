{
 "cells": [
  {
   "cell_type": "code",
   "execution_count": 13,
   "metadata": {},
   "outputs": [
    {
     "name": "stdout",
     "output_type": "stream",
     "text": [
      "\n",
      " 5 patinhos foram passear \n",
      " Além das montanhas para brincar \n",
      " A mamãe gritou: Quá, quá, quá, quá \n",
      " Mas só 4 voltaram de lá.\n",
      "\n",
      " 4 patinhos foram passear \n",
      " Além das montanhas para brincar \n",
      " A mamãe gritou: Quá, quá, quá, quá \n",
      " Mas só 3 voltaram de lá.\n",
      "\n",
      " 3 patinhos foram passear \n",
      " Além das montanhas para brincar \n",
      " A mamãe gritou: Quá, quá, quá, quá \n",
      " Mas só 2 voltaram de lá.\n",
      "\n",
      " 2 patinhos foram passear \n",
      " Além das montanhas para brincar \n",
      " A mamãe gritou: Quá, quá, quá, quá \n",
      " Mas só 1 voltaram de lá.\n",
      "\n",
      " 1 patinhos foram passear \n",
      " Além das montanhas para brincar \n",
      " A mamãe gritou: Quá, quá, quá, quá \n",
      " Mas só 0 voltaram de lá.\n",
      "\n",
      " A mamãe patinha foi procurar \n",
      " Além das montanhas na beira do mar\n",
      " A mamãe gritou: Quá, quá, quá, quá\n",
      " E os 5 patinhos voltaram de lá.\n"
     ]
    }
   ],
   "source": [
    "patos = 5\n",
    "while patos > 0:\n",
    "    print(\"\\n\", patos, \"patinhos foram passear\", \"\\n Além das montanhas para brincar\",\"\\n A mamãe gritou: Quá, quá, quá, quá\",\"\\n Mas só\", patos-1, \"voltaram de lá.\"   )\n",
    "    patos -=1\n",
    "print(\"\\n A mamãe patinha foi procurar\",\"\\n Além das montanhas na beira do mar\" \"\\n A mamãe gritou: Quá, quá, quá, quá\" \"\\n E os 5 patinhos voltaram de lá.\")"
   ]
  },
  {
   "cell_type": "code",
   "execution_count": 14,
   "metadata": {},
   "outputs": [
    {
     "name": "stdout",
     "output_type": "stream",
     "text": [
      "\n",
      "Mariana conta 1 \n",
      "Mariana conta 1: é 1, é 1, é! \n",
      "Ana, viva a Mariana, viva a Mariana\n",
      "\n",
      "Mariana conta 2\n",
      "Mariana conta 2 : é 1,  é 2,  é! Ana\n",
      "viva a Mariana, viva a Mariana\n",
      "\n",
      "Mariana conta 3\n",
      "Mariana conta 3 : é 1,  é 2,  é 3,  é! Ana\n",
      "viva a Mariana, viva a Mariana\n",
      "\n",
      "Mariana conta 4\n",
      "Mariana conta 4 : é 1,  é 2,  é 3,  é 4,  é! Ana\n",
      "viva a Mariana, viva a Mariana\n",
      "\n",
      "Mariana conta 5\n",
      "Mariana conta 5 : é 1,  é 2,  é 3,  é 4,  é 5,  é! Ana\n",
      "viva a Mariana, viva a Mariana\n",
      "\n",
      "Mariana conta 6\n",
      "Mariana conta 6 : é 1,  é 2,  é 3,  é 4,  é 5,  é 6,  é! Ana\n",
      "viva a Mariana, viva a Mariana\n",
      "\n",
      "Mariana conta 7\n",
      "Mariana conta 7 : é 1,  é 2,  é 3,  é 4,  é 5,  é 6,  é 7,  é! Ana\n",
      "viva a Mariana, viva a Mariana\n",
      "\n",
      "Mariana conta 8\n",
      "Mariana conta 8 : é 1,  é 2,  é 3,  é 4,  é 5,  é 6,  é 7,  é 8,  é! Ana\n",
      "viva a Mariana, viva a Mariana\n",
      "\n",
      "Mariana conta 9\n",
      "Mariana conta 9 : é 1,  é 2,  é 3,  é 4,  é 5,  é 6,  é 7,  é 8,  é 9,  é! Ana\n",
      "viva a Mariana, viva a Mariana\n",
      "\n",
      "Mariana conta 10\n",
      "Mariana conta 10 : é 1,  é 2,  é 3,  é 4,  é 5,  é 6,  é 7,  é 8,  é 9,  é 10,  é! Ana\n",
      "viva a Mariana, viva a Mariana\n"
     ]
    }
   ],
   "source": [
    "for numero1 in range (1, 11):\n",
    "    if numero1 == 1:\n",
    "        print('\\nMariana conta 1 \\nMariana conta 1: é 1, é 1, é! \\nAna, viva a Mariana, viva a Mariana')\n",
    "    else:\n",
    "        print('\\nMariana conta', numero1)\n",
    "        print('Mariana conta',numero1,':', end = '')\n",
    "        for numero2 in range (1, numero1+1):\n",
    "            print(f' é {numero2}, ', end = '')\n",
    "        print(\" é! Ana\")\n",
    "        print('viva a Mariana, viva a Mariana')"
   ]
  },
  {
   "cell_type": "code",
   "execution_count": 15,
   "metadata": {},
   "outputs": [
    {
     "name": "stdout",
     "output_type": "stream",
     "text": [
      "1 Elefante incomoda muita gente\n",
      "2 Elefantes incomodam, incomodam,  muito mais\n",
      "3 Elefantes incomodam muita gente\n",
      "4 Elefantes incomodam, incomodam, incomodam, incomodam,  muito mais\n",
      "5 Elefantes incomodam muita gente\n",
      "6 Elefantes incomodam, incomodam, incomodam, incomodam, incomodam, incomodam,  muito mais\n",
      "7 Elefantes incomodam muita gente\n",
      "8 Elefantes incomodam, incomodam, incomodam, incomodam, incomodam, incomodam, incomodam, incomodam,  muito mais\n",
      "9 Elefantes incomodam muita gente\n",
      "10 Elefantes incomodam, incomodam, incomodam, incomodam, incomodam, incomodam, incomodam, incomodam, incomodam, incomodam,  muito mais\n",
      "10 Elefantes incomodam muita gente\n",
      "9 elefantes incomodam, incomodam, incomodam, incomodam, incomodam, incomodam, incomodam, incomodam, incomodam,  muito menos\n",
      "8 Elefantes incomodam muita gente\n",
      "7 elefantes incomodam, incomodam, incomodam, incomodam, incomodam, incomodam, incomodam,  muito menos\n",
      "6 Elefantes incomodam muita gente\n",
      "5 elefantes incomodam, incomodam, incomodam, incomodam, incomodam,  muito menos\n",
      "4 Elefantes incomodam muita gente\n",
      "3 elefantes incomodam, incomodam, incomodam,  muito menos\n",
      "2 Elefantes incomodam muita gente\n",
      "1 Elefante incomada muita gente\n"
     ]
    }
   ],
   "source": [
    "for elefanteMais in range(1, 11):\n",
    "    if elefanteMais %2 == 0:\n",
    "        print(elefanteMais, 'Elefantes', elefanteMais*'incomodam, ', 'muito mais')\n",
    "    else:\n",
    "        if elefanteMais == 1: \n",
    "            print(elefanteMais, 'Elefante incomoda muita gente') \n",
    "        else:\n",
    "            print(elefanteMais, 'Elefantes incomodam muita gente')\n",
    "for elefanteMenos in range(10, 0, -1): \n",
    "    if elefanteMenos %2 == 1:\n",
    "        if elefanteMenos == 1:\n",
    "            print(elefanteMenos, 'Elefante incomada muita gente')\n",
    "        else:\n",
    "            print(elefanteMenos, 'elefantes', elefanteMenos*'incomodam, ', 'muito menos')\n",
    "    else:\n",
    "        print(elefanteMenos, 'Elefantes incomodam muita gente')"
   ]
  }
 ],
 "metadata": {
  "kernelspec": {
   "display_name": "Python 3",
   "language": "python",
   "name": "python3"
  },
  "language_info": {
   "codemirror_mode": {
    "name": "ipython",
    "version": 3
   },
   "file_extension": ".py",
   "mimetype": "text/x-python",
   "name": "python",
   "nbconvert_exporter": "python",
   "pygments_lexer": "ipython3",
   "version": "3.11.9"
  }
 },
 "nbformat": 4,
 "nbformat_minor": 2
}
