{
 "cells": [
  {
   "cell_type": "code",
   "execution_count": 14,
   "metadata": {},
   "outputs": [
    {
     "name": "stdout",
     "output_type": "stream",
     "text": [
      "Variavel da função Multiplica:  20\n",
      "10\n"
     ]
    }
   ],
   "source": [
    "varGlobal = 10 #essa é uma variável global\n",
    "def multiplicacao(num1, num2):\n",
    "    #apesar do mesmo nome, é uma variável local:\n",
    "    varGlobal = (num1 * num2)\n",
    "    print(\"Variavel da função Multiplica: \", varGlobal)\n",
    "\n",
    "multiplicacao(5, 4)\n",
    "print(varGlobal)"
   ]
  },
  {
   "cell_type": "code",
   "execution_count": 15,
   "metadata": {},
   "outputs": [],
   "source": [
    "varGlobal = 10 #essa é uma variável global\n",
    "def multiplica(num1, num2):\n",
    "    varLocal = num1 * num2 #essa é uma variável local\n",
    "    print(\"Variável da função multiplica: \", varLocal)\n",
    "    print(varLocal)"
   ]
  },
  {
   "cell_type": "code",
   "execution_count": 16,
   "metadata": {},
   "outputs": [
    {
     "name": "stdout",
     "output_type": "stream",
     "text": [
      "Variável da função multiplica:  20\n",
      "20\n"
     ]
    }
   ],
   "source": [
    "multiplica(5, 4)"
   ]
  },
  {
   "cell_type": "code",
   "execution_count": 17,
   "metadata": {},
   "outputs": [
    {
     "ename": "NameError",
     "evalue": "name 'varLocal' is not defined",
     "output_type": "error",
     "traceback": [
      "\u001b[1;31m---------------------------------------------------------------------------\u001b[0m",
      "\u001b[1;31mNameError\u001b[0m                                 Traceback (most recent call last)",
      "Cell \u001b[1;32mIn[17], line 1\u001b[0m\n\u001b[1;32m----> 1\u001b[0m \u001b[38;5;28mprint\u001b[39m(\u001b[43mvarLocal\u001b[49m)\n",
      "\u001b[1;31mNameError\u001b[0m: name 'varLocal' is not defined"
     ]
    }
   ],
   "source": [
    "print(varLocal)"
   ]
  },
  {
   "cell_type": "code",
   "execution_count": null,
   "metadata": {},
   "outputs": [],
   "source": [
    "def separarTexto(texto):\n",
    "    return texto.split()\n",
    "\n",
    "separarTexto(\"Cibele Maria Suely\")"
   ]
  },
  {
   "cell_type": "code",
   "execution_count": 20,
   "metadata": {},
   "outputs": [
    {
     "name": "stdout",
     "output_type": "stream",
     "text": [
      "Parâmetro 0 Cibele\n",
      "Parâmetro 1 Suely\n",
      "Parâmetro 2 Giggio\n",
      "Parâmetro 3 Madá\n",
      "Parâmetro 4 Luquinhas\n"
     ]
    }
   ],
   "source": [
    "#Quando não sabemos a quantidade de parâmetros basta usar\n",
    "def variosParametros(*parametros):\n",
    "    for n, item in enumerate(parametros):\n",
    "        print(\"Parâmetro\", n, item)\n",
    "    return\n",
    "\n",
    "variosParametros(\"Cibele\", \"Suely\", \"Giggio\", \"Madá\", \"Luquinhas\")"
   ]
  },
  {
   "cell_type": "code",
   "execution_count": 21,
   "metadata": {},
   "outputs": [
    {
     "name": "stdout",
     "output_type": "stream",
     "text": [
      "Parâmetro 0 pitomba\n",
      "Parâmetro 1 jambo\n",
      "Parâmetro 2 Siriguela\n",
      "Parâmetro 3 Umbu\n"
     ]
    }
   ],
   "source": [
    "variosParametros(\"pitomba\", \"jambo\", \"Siriguela\", \"Umbu\")"
   ]
  },
  {
   "cell_type": "code",
   "execution_count": 25,
   "metadata": {},
   "outputs": [],
   "source": [
    "def soma(n1, n2):\n",
    "    return n1+n2\n",
    "def subtrai(n1, n2):\n",
    "    return n1-n2\n",
    "def multiplica(n1, n2):\n",
    "    return n1*n2\n",
    "def divide(n1, n2):\n",
    "    return n1/n2"
   ]
  },
  {
   "cell_type": "code",
   "execution_count": 4,
   "metadata": {},
   "outputs": [
    {
     "name": "stdout",
     "output_type": "stream",
     "text": [
      "+===================+\n",
      "| MENU DE OPERAÇÕES |\n",
      "| 1 - somar         |\n",
      "| 2 - subtrair      |\n",
      "| 3 - multiplicar   |\n",
      "| 4 - dividir       |\n",
      "| 0 - sair          |\n",
      "+===================+\n"
     ]
    },
    {
     "ename": "NameError",
     "evalue": "name 'subtrai' is not defined",
     "output_type": "error",
     "traceback": [
      "\u001b[1;31m---------------------------------------------------------------------------\u001b[0m",
      "\u001b[1;31mNameError\u001b[0m                                 Traceback (most recent call last)",
      "Cell \u001b[1;32mIn[4], line 21\u001b[0m\n\u001b[0;32m     19\u001b[0m     \u001b[38;5;28mprint\u001b[39m(\u001b[38;5;124m\"\u001b[39m\u001b[38;5;124mO resultado da soma\u001b[39m\u001b[38;5;124m\"\u001b[39m, n1 ,\u001b[38;5;124m\"\u001b[39m\u001b[38;5;124m+\u001b[39m\u001b[38;5;124m\"\u001b[39m, n2, \u001b[38;5;124m\"\u001b[39m\u001b[38;5;124mé: \u001b[39m\u001b[38;5;124m\"\u001b[39m, soma(n1, n2))\n\u001b[0;32m     20\u001b[0m \u001b[38;5;28;01melif\u001b[39;00m op\u001b[38;5;241m==\u001b[39m\u001b[38;5;241m2\u001b[39m:\n\u001b[1;32m---> 21\u001b[0m     \u001b[38;5;28mprint\u001b[39m(\u001b[38;5;124m\"\u001b[39m\u001b[38;5;124mO resultado da subtração\u001b[39m\u001b[38;5;124m\"\u001b[39m, n1 ,\u001b[38;5;124m\"\u001b[39m\u001b[38;5;124m-\u001b[39m\u001b[38;5;124m\"\u001b[39m, n2, \u001b[38;5;124m\"\u001b[39m\u001b[38;5;124mé: \u001b[39m\u001b[38;5;124m\"\u001b[39m, \u001b[43msubtrai\u001b[49m(n1, n2))\n\u001b[0;32m     22\u001b[0m \u001b[38;5;28;01melif\u001b[39;00m op\u001b[38;5;241m==\u001b[39m\u001b[38;5;241m3\u001b[39m:\n\u001b[0;32m     23\u001b[0m     \u001b[38;5;28mprint\u001b[39m(\u001b[38;5;124m\"\u001b[39m\u001b[38;5;124mO resultado da multiplicação de\u001b[39m\u001b[38;5;124m\"\u001b[39m, n1 ,\u001b[38;5;124m\"\u001b[39m\u001b[38;5;124mx\u001b[39m\u001b[38;5;124m\"\u001b[39m, n2, \u001b[38;5;124m\"\u001b[39m\u001b[38;5;124mé: \u001b[39m\u001b[38;5;124m\"\u001b[39m, multiplica(n1, n2))\n",
      "\u001b[1;31mNameError\u001b[0m: name 'subtrai' is not defined"
     ]
    }
   ],
   "source": [
    "while True:\n",
    "    print(\"+===================+\")\n",
    "    print(\"| MENU DE OPERAÇÕES |\")\n",
    "    print(\"| 1 - somar         |\")\n",
    "    print(\"| 2 - subtrair      |\")\n",
    "    print(\"| 3 - multiplicar   |\")\n",
    "    print(\"| 4 - dividir       |\")\n",
    "    print(\"| 0 - sair          |\")\n",
    "    print(\"+===================+\")\n",
    "\n",
    "    op = int(input())\n",
    "    if op==0:\n",
    "        break\n",
    "\n",
    "    n1 = int(input(\"Primeiro número: \"))\n",
    "    n2 = int(input(\"Segundo número: \"))\n",
    "\n",
    "    if op==1:\n",
    "        print(\"O resultado da soma\", n1 ,\"+\", n2, \"é: \", soma(n1, n2))\n",
    "    elif op==2:\n",
    "        print(\"O resultado da subtração\", n1 ,\"-\", n2, \"é: \", subtrai(n1, n2))\n",
    "    elif op==3:\n",
    "        print(\"O resultado da multiplicação de\", n1 ,\"x\", n2, \"é: \", multiplica(n1, n2))\n",
    "    elif op==4:\n",
    "        print(\"O resultado da divisão é\", n1 ,\"/\", n2, \"é: \", divide(n1, n2))\n",
    "    break"
   ]
  }
 ],
 "metadata": {
  "kernelspec": {
   "display_name": "Python 3",
   "language": "python",
   "name": "python3"
  },
  "language_info": {
   "codemirror_mode": {
    "name": "ipython",
    "version": 3
   },
   "file_extension": ".py",
   "mimetype": "text/x-python",
   "name": "python",
   "nbconvert_exporter": "python",
   "pygments_lexer": "ipython3",
   "version": "3.10.2"
  }
 },
 "nbformat": 4,
 "nbformat_minor": 2
}
