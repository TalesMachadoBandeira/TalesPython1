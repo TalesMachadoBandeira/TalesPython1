{
 "cells": [
  {
   "cell_type": "code",
   "execution_count": 15,
   "metadata": {},
   "outputs": [],
   "source": [
    "#Faça um Programa que peça 2 números inteiros e um número real. Calcule e mostre:\n",
    "\n",
    "#a)O produto do dobro do primeiro com metade do segundo.\n",
    "\n",
    "#b)A soma do triplo do primeiro com o terceiro. o terceiro elevado ao cubo.\n",
    "\n",
    "\n",
    "#pede 2 numeros inteiros e 1 numero real.\n",
    "inteiro1 = int(input('digite um numero inteiro'))\n",
    "inteiro2 = int(input('digite outro numero inteiro'))\n",
    "real1 = float(input('digite um numero real'))"
   ]
  },
  {
   "cell_type": "code",
   "execution_count": 16,
   "metadata": {},
   "outputs": [
    {
     "name": "stdout",
     "output_type": "stream",
     "text": [
      "O produto do dobro do primeiro com metade do segundo é: 66789.0\n"
     ]
    }
   ],
   "source": [
    "#O produto do dobro do primeiro com metade do segundo.\n",
    "\n",
    "resultado1 = (inteiro1 * 2 * (inteiro2 / 2))\n",
    "\n",
    "print(\"O produto do dobro do primeiro com metade do segundo é:\",resultado1)"
   ]
  },
  {
   "cell_type": "code",
   "execution_count": 55,
   "metadata": {},
   "outputs": [
    {
     "name": "stdout",
     "output_type": "stream",
     "text": [
      "A soma do triplo do primeiro com o terceiro é: 1236.0\n",
      "o terceiro elevado ao cubo é: 867.0\n"
     ]
    }
   ],
   "source": [
    "#A soma do triplo do primeiro com o terceiro. o terceiro elevado ao cubo.\n",
    "\n",
    "resultado2 = (inteiro1 * 3 + real1)\n",
    "resultado3 = (real1 ** 8)\n",
    "\n",
    "print(\"A soma do triplo do primeiro com o terceiro é:\",resultado2)\n",
    "print(\"O terceiro elevado ao cubo é:\",real1)"
   ]
  },
  {
   "cell_type": "code",
   "execution_count": 7,
   "metadata": {},
   "outputs": [],
   "source": [
    "#Faça um Programa que peça dois números e imprima o maior deles.\n",
    "\n",
    "#pede 2 numeros reais.\n",
    "numero1 = float(input('Digite um numero'))\n",
    "numero2 = float(input('Digite outro numero'))"
   ]
  },
  {
   "cell_type": "code",
   "execution_count": 8,
   "metadata": {},
   "outputs": [
    {
     "name": "stdout",
     "output_type": "stream",
     "text": [
      "542.0 É o maior dos 2 numeros\n"
     ]
    }
   ],
   "source": [
    "#checa se o primeiro numero é maior igual ou menor que o segundo numero e dá a resposta de acordo\n",
    "if (numero1 > numero2):\n",
    "    print(numero1, \"É o maior dos dois numeros\")\n",
    "elif (numero1 == numero2):\n",
    "    print('Os dois numeros são iguais')\n",
    "else:\n",
    "    print(numero2, \"É o maior dos 2 numeros\")\n"
   ]
  },
  {
   "cell_type": "code",
   "execution_count": 58,
   "metadata": {},
   "outputs": [],
   "source": [
    "#Faça um Programa que peça um valor e mostre na tela se o valor é positivo ou negativo.\n",
    "\n",
    "#Pede 1 numero.\n",
    "numero1 = float(input('Digite um numero'))"
   ]
  },
  {
   "cell_type": "code",
   "execution_count": 61,
   "metadata": {},
   "outputs": [
    {
     "name": "stdout",
     "output_type": "stream",
     "text": [
      "-421.0 é negativo\n"
     ]
    }
   ],
   "source": [
    "#pega um valor e mostra se o valor é positivo ou negativo.\n",
    "\n",
    "if (numero1 >= 0):\n",
    "    print(numero1, \"É possitivo\")\n",
    "else:\n",
    "    print(numero1, \"É negativo\")"
   ]
  },
  {
   "cell_type": "code",
   "execution_count": 2,
   "metadata": {},
   "outputs": [],
   "source": [
    "#Faça um programa para a leitura de duas notas parciais de um aluno. O programa deve calcular a média alcançada por aluno e apresentar o resultado \"Aprovado\" ou \"Reprovado\". Considere que a escola adota média 7,00.\n",
    "\n",
    "#pergunta as 2 notas.\n",
    "nota1 = float(input('Digite sua 1ª nota'))\n",
    "nota2 = float(input('Digite sua 2ª nota'))"
   ]
  },
  {
   "cell_type": "code",
   "execution_count": 4,
   "metadata": {},
   "outputs": [
    {
     "name": "stdout",
     "output_type": "stream",
     "text": [
      "Sua media é 8.0 aprovado\n"
     ]
    }
   ],
   "source": [
    "#pega as duas notas soma elas e as divide por 2, conseguindo sua media.\n",
    "media1 = ((nota1 + nota2) / 2)\n",
    "\n",
    "#se a media for maior que 7 ele aprova, senão ele reprova.\n",
    "if (media1 >= 7.0):\n",
    "    print(\"Sua media é\", media1, \"aprovado\")\n",
    "else:\n",
    "    print(\"Sua media é\",media1,\"reprovado\")"
   ]
  },
  {
   "cell_type": "code",
   "execution_count": 24,
   "metadata": {},
   "outputs": [],
   "source": [
    "#Faça um Programa que leia três números e mostre o maior deles.\n",
    "\n",
    "#pergunta os 3 numeros\n",
    "maior1 = float(input('Digite o primeiro numero'))\n",
    "maior2 = float(input('Digite o segundo numero'))\n",
    "maior3 = float(input('Digite o terceiro numero'))"
   ]
  },
  {
   "cell_type": "code",
   "execution_count": 25,
   "metadata": {},
   "outputs": [
    {
     "name": "stdout",
     "output_type": "stream",
     "text": [
      "3.0 é o maior numero\n"
     ]
    }
   ],
   "source": [
    "#checa qual é o maior um por um\n",
    "if (maior1 > maior2):\n",
    "    if (maior1 > maior3):\n",
    "        print(maior1, \"é o maior numero\")\n",
    "    else:\n",
    "        print (maior3, \"é o maior numero\")\n",
    "elif (maior2 > maior3):\n",
    "    print(maior2, \"é o maior numero\")\n",
    "else:\n",
    "    print(maior3, \"é o maior numero\")"
   ]
  }
 ],
 "metadata": {
  "kernelspec": {
   "display_name": "Python 3",
   "language": "python",
   "name": "python3"
  },
  "language_info": {
   "codemirror_mode": {
    "name": "ipython",
    "version": 3
   },
   "file_extension": ".py",
   "mimetype": "text/x-python",
   "name": "python",
   "nbconvert_exporter": "python",
   "pygments_lexer": "ipython3",
   "version": "3.10.8"
  }
 },
 "nbformat": 4,
 "nbformat_minor": 2
}
