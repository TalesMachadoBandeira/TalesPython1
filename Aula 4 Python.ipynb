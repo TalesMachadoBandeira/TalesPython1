{
 "cells": [
  {
   "cell_type": "code",
   "execution_count": 10,
   "metadata": {},
   "outputs": [
    {
     "name": "stdout",
     "output_type": "stream",
     "text": [
      "o numero informado foi: 69\n"
     ]
    }
   ],
   "source": [
    "#pede um numero inteiro\n",
    "valor_int = int(input('digite um numero'))\n",
    "\n",
    "#informa o numero inteiro\n",
    "print (\"o numero informado foi:\" , valor_int)"
   ]
  },
  {
   "cell_type": "code",
   "execution_count": 11,
   "metadata": {},
   "outputs": [
    {
     "name": "stdout",
     "output_type": "stream",
     "text": [
      "a soma de seus numeros é: 75\n"
     ]
    }
   ],
   "source": [
    "#pede dois numeros\n",
    "valor1 = int(input('digite um numero'))\n",
    "valor2 = int(input('digite outro numero'))\n",
    "\n",
    "#variavel para soma\n",
    "soma = (valor1 + valor2)\n",
    "\n",
    "#informa a soma de dois numeros com um pequeno texto explicativo divididos por uma \",\"\n",
    "print (\"a soma de seus numeros é:\" , soma)"
   ]
  },
  {
   "cell_type": "code",
   "execution_count": 12,
   "metadata": {},
   "outputs": [
    {
     "name": "stdout",
     "output_type": "stream",
     "text": [
      "a media de sua nota é: 7.333333333333333\n"
     ]
    }
   ],
   "source": [
    "#pede 3 notas\n",
    "nota1 = float(input('digite uma nota'))\n",
    "nota2 = float(input('digite outra nota'))\n",
    "nota3 = float(input('digite a ultima nota'))\n",
    "\n",
    "#pega a media destas 3 notas somando elas e dividindo por 3\n",
    "media = ((nota1 + nota2 + nota3) / 3 )\n",
    "\n",
    "#mostra a media  da nota\n",
    "print (\"a media de sua nota é:\" , media)"
   ]
  },
  {
   "cell_type": "code",
   "execution_count": 13,
   "metadata": {},
   "outputs": [
    {
     "name": "stdout",
     "output_type": "stream",
     "text": [
      "você ganhou: R$ 5500.0 nesse mês\n"
     ]
    }
   ],
   "source": [
    "#pergunta o quanto você ganha por hora em seu trabalho, depois pergunta a quantia de horas que você trabalhou\n",
    "salario1 = float(input('digite a quantia que você ganha por hora em seu trabalho'))\n",
    "salario2 = float(input('digite a quantia de horas que você trabalhou nesse mês'))\n",
    "\n",
    "#multiplica a quantia de horas pelo quanto você ganha por horas para descobrir o quanto você ganhou no mês\n",
    "multiplicação = (salario1 * salario2)\n",
    "\n",
    "#informa o quanto você ganhou no mês\n",
    "print(\"você ganhou: R$\" , multiplicação , \"nesse mês\")"
   ]
  },
  {
   "cell_type": "code",
   "execution_count": 19,
   "metadata": {},
   "outputs": [
    {
     "name": "stdout",
     "output_type": "stream",
     "text": [
      "João tem que pagar uma taxa de: R$ 76.0\n"
     ]
    }
   ],
   "source": [
    "#pede a quantidade de quilos que joão pescou\n",
    "pesca1 = float(input('digite a quantidade de quilos que João pescou'))\n",
    "\n",
    "#pega quantidade de quilos diminui em 50 e multiplica por quatro criando a variavel \"taxa\"\n",
    "taxa = ((pesca1 - 50) * 4)\n",
    "\n",
    "#se não for acima de 0, João não terá que pagar nenhuma taxa\n",
    "if (taxa <= 0) :\n",
    "   print (\"João não tera que pagar nenhuma taxa\")\n",
    "#se a taxa for um numero acima de 0 ele diz a quantia da taxa que João terá que pagar\n",
    "else :\n",
    "   print(\"João tem que pagar uma taxa de: R$\" , taxa)"
   ]
  }
 ],
 "metadata": {
  "kernelspec": {
   "display_name": "Python 3",
   "language": "python",
   "name": "python3"
  },
  "language_info": {
   "codemirror_mode": {
    "name": "ipython",
    "version": 3
   },
   "file_extension": ".py",
   "mimetype": "text/x-python",
   "name": "python",
   "nbconvert_exporter": "python",
   "pygments_lexer": "ipython3",
   "version": "3.12.2"
  }
 },
 "nbformat": 4,
 "nbformat_minor": 2
}
