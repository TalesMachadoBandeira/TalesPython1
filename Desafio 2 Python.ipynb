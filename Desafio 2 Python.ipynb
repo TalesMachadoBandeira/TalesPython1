{
 "cells": [
  {
   "cell_type": "code",
   "execution_count": 7,
   "metadata": {},
   "outputs": [
    {
     "name": "stdout",
     "output_type": "stream",
     "text": [
      "o preço do imposto a ser pago é 450.0\n"
     ]
    }
   ],
   "source": [
    "#pede o ano e preço do carro\n",
    "ano = int(input(\"de que ano é seu carro?\"))\n",
    "preço = float(input(\"qual é o preço do seu carro?\"))\n",
    "\n",
    "#se o ano do carro for depois ou igual a 1990 ele da um imposto de 1.5% do preço\n",
    "if (ano >= 1990):\n",
    "    imposto = (preço * (1.5/100))\n",
    "    print(\"o preço do imposto a ser pago é\", imposto)\n",
    "#senão ele da um imposto de 1% do preço\n",
    "else:\n",
    "    imposto = (preço * (1/100))\n",
    "    print(\"o preço do imposto a ser pago é\", imposto)"
   ]
  },
  {
   "cell_type": "code",
   "execution_count": 25,
   "metadata": {},
   "outputs": [
    {
     "name": "stdout",
     "output_type": "stream",
     "text": [
      "Você recebeu um aumento de R$ 3693.6 \n",
      "Seu salario era R$ 12312.0 \n",
      "Seu novo salario é: R$ 16005.6\n"
     ]
    }
   ],
   "source": [
    "#pergunta seu salario e seu cargo com os codigos de cargo sendo (101 para Gerente, 102 para Engenheiro, 103 para Técnico)\n",
    "cargo = input(\"Digite o seu cargo\")\n",
    "salario = float(input(\"qual é o seu salario\"))\n",
    "\n",
    "#se seu cargo for gerente ou 101 você recebe 10% de aumento\n",
    "if (cargo == \"101\" or cargo == \"gerente\" or cargo == \"Gerente\"):\n",
    "    percentual = (salario * (10/100))\n",
    "    aumento = (salario + percentual)\n",
    "    print(\"Você recebeu um aumento de R$\", percentual, \"\\nSeu salario era R$\", salario, \"\\nSeu novo salario é: R$\", aumento)\n",
    "#se seu cargo for engenheiro ou 102 você recebe 20% de aumento\n",
    "elif (cargo == \"102\" or cargo == \"engenheiro\" or cargo == \"Engenheiro\"):\n",
    "    percentual = (salario * (20/100))\n",
    "    aumento = (salario + percentual)\n",
    "    print(\"Você recebeu um aumento de R$\", percentual, \"\\nSeu salario era R$\", salario, \"\\nSeu novo salario é: R$\", aumento)\n",
    "#se seu cargo for tecnico ou 103 você recebe 30% de aumento\n",
    "elif (cargo == \"103\" or cargo == \"Tecnico\" or cargo == \"tecnico\" or cargo == \"Técnico\" or cargo == \"técnico\"):\n",
    "    percentual = (salario * (30/100))\n",
    "    aumento = (salario + percentual)\n",
    "    print(\"Você recebeu um aumento de R$\", percentual, \"\\nSeu salario era R$\", salario, \"\\nSeu novo salario é: R$\", aumento)\n",
    "#se nenhuma das respostas corresponder ele ganhara 40%\n",
    "else:\n",
    "    percentual = (salario * (40/100))\n",
    "    aumento = (salario + percentual)\n",
    "    print(\"Você recebeu um aumento de R$\", percentual, \"\\nSeu salario era R$\", salario, \"\\nSeu novo salario é: R$\", aumento)"
   ]
  }
 ],
 "metadata": {
  "kernelspec": {
   "display_name": "Python 3",
   "language": "python",
   "name": "python3"
  },
  "language_info": {
   "codemirror_mode": {
    "name": "ipython",
    "version": 3
   },
   "file_extension": ".py",
   "mimetype": "text/x-python",
   "name": "python",
   "nbconvert_exporter": "python",
   "pygments_lexer": "ipython3",
   "version": "3.10.8"
  }
 },
 "nbformat": 4,
 "nbformat_minor": 2
}
