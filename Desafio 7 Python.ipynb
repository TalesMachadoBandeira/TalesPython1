{
 "cells": [
  {
   "cell_type": "code",
   "execution_count": 9,
   "metadata": {},
   "outputs": [
    {
     "name": "stdout",
     "output_type": "stream",
     "text": [
      "+===================+\n",
      "| MENU DE OPERAÇÕES |\n",
      "| 1 - somar         |\n",
      "| 2 - subtrair      |\n",
      "| 3 - multiplicar   |\n",
      "| 4 - dividir       |\n",
      "| 0 - sair          |\n",
      "+===================+\n"
     ]
    },
    {
     "ename": "ValueError",
     "evalue": "could not convert string to float: ''",
     "output_type": "error",
     "traceback": [
      "\u001b[1;31m---------------------------------------------------------------------------\u001b[0m",
      "\u001b[1;31mValueError\u001b[0m                                Traceback (most recent call last)",
      "Cell \u001b[1;32mIn[9], line 20\u001b[0m\n\u001b[0;32m     17\u001b[0m \u001b[38;5;28mprint\u001b[39m(\u001b[38;5;124m\"\u001b[39m\u001b[38;5;124m| 0 - sair          |\u001b[39m\u001b[38;5;124m\"\u001b[39m)\n\u001b[0;32m     18\u001b[0m \u001b[38;5;28mprint\u001b[39m(\u001b[38;5;124m\"\u001b[39m\u001b[38;5;124m+===================+\u001b[39m\u001b[38;5;124m\"\u001b[39m)\n\u001b[1;32m---> 20\u001b[0m op \u001b[38;5;241m=\u001b[39m \u001b[38;5;28;43mfloat\u001b[39;49m\u001b[43m(\u001b[49m\u001b[38;5;28;43minput\u001b[39;49m\u001b[43m(\u001b[49m\u001b[43m)\u001b[49m\u001b[43m)\u001b[49m\n\u001b[0;32m     21\u001b[0m \u001b[38;5;28;01mif\u001b[39;00m op\u001b[38;5;241m==\u001b[39m\u001b[38;5;241m0\u001b[39m:\n\u001b[0;32m     22\u001b[0m     \u001b[38;5;28;01mbreak\u001b[39;00m\n",
      "\u001b[1;31mValueError\u001b[0m: could not convert string to float: ''"
     ]
    }
   ],
   "source": [
    "def soma(n1, n2):\n",
    "    return n1+n2\n",
    "def subtrai(n1, n2):\n",
    "    return n1-n2\n",
    "def multiplica(n1, n2):\n",
    "    return n1*n2\n",
    "def divide(n1, n2):\n",
    "    return n1/n2\n",
    "\n",
    "while True:\n",
    "    print(\"+===================+\")\n",
    "    print(\"| MENU DE OPERAÇÕES |\")\n",
    "    print(\"| 1 - somar         |\")\n",
    "    print(\"| 2 - subtrair      |\")\n",
    "    print(\"| 3 - multiplicar   |\")\n",
    "    print(\"| 4 - dividir       |\")\n",
    "    print(\"| 0 - sair          |\")\n",
    "    print(\"+===================+\")\n",
    "\n",
    "    op = float(input())\n",
    "    if op==0:\n",
    "        break\n",
    "    elif op / 1 != 0 or op > 4 or op < 0:\n",
    "        print(\"valor invalido\")\n",
    "        break\n",
    "\n",
    "    n1 = float(input(\"Primeiro número: \"))\n",
    "    n2 = float(input(\"Segundo número: \"))\n",
    "\n",
    "    if op==1:\n",
    "        print(\"O resultado da soma\", n1 ,\"+\", n2, \"é: \", soma(n1, n2))\n",
    "    elif op==2:\n",
    "        print(\"O resultado da subtração\", n1 ,\"-\", n2, \"é: \", subtrai(n1, n2))\n",
    "    elif op==3:\n",
    "        print(\"O resultado da multiplicação de\", n1 ,\"x\", n2, \"é: \", multiplica(n1, n2))\n",
    "    elif op==4:\n",
    "        print(\"O resultado da divisão é\", n1 ,\"/\", n2, \"é: \", divide(n1, n2))\n",
    "    break"
   ]
  }
 ],
 "metadata": {
  "kernelspec": {
   "display_name": "Python 3",
   "language": "python",
   "name": "python3"
  },
  "language_info": {
   "codemirror_mode": {
    "name": "ipython",
    "version": 3
   },
   "file_extension": ".py",
   "mimetype": "text/x-python",
   "name": "python",
   "nbconvert_exporter": "python",
   "pygments_lexer": "ipython3",
   "version": "3.10.2"
  }
 },
 "nbformat": 4,
 "nbformat_minor": 2
}
