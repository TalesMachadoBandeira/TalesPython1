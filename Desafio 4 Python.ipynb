{
 "cells": [
  {
   "cell_type": "code",
   "execution_count": 34,
   "metadata": {},
   "outputs": [
    {
     "name": "stdout",
     "output_type": "stream",
     "text": [
      "a letra \" E \" é uma vogal\n"
     ]
    }
   ],
   "source": [
    "#1º Faça um Programa que verifique se uma letra digitada é vogal ou consoante.\n",
    "\n",
    "letra = input(\"escreva uma unica letra\")\n",
    "if (letra == \"a\" or letra == \"A\" or letra == \"e\" or letra == \"E\" or letra == \"i\" or letra == \"I\" or letra == \"o\" or letra == \"O\" or letra == \"u\" or letra == \"U\"):\n",
    "    print(\"a letra\",'\"', letra,'\"', \"é uma vogal\")\n",
    "else:\n",
    "    print(\"a letra\",'\"', letra,'\"', \"é uma consoante\")"
   ]
  },
  {
   "cell_type": "code",
   "execution_count": 35,
   "metadata": {},
   "outputs": [
    {
     "name": "stdout",
     "output_type": "stream",
     "text": [
      " o primeiro produto de R$ 43.0 é o que você deve comprar\n"
     ]
    }
   ],
   "source": [
    "#2º Faça um programa que pergunte o preço de três produtos e informe qual produto você deve comprar, sabendo que a decisão é sempre pelo mais barato.\n",
    "\n",
    "p1 = float(input(\"me dé o preço do primeiro item\"))\n",
    "p2 = float(input(\"me dé o preço do segundo item\"))\n",
    "p3 = float(input(\"me dé o preço do terceiro item\"))\n",
    "\n",
    "if (p1 < p2):\n",
    "    if (p1 < p3):\n",
    "        print(\" o primeiro produto de R$\",p1,\"é o que você deve comprar\")\n",
    "    else:\n",
    "        print (\" o terceiro produto de R$\",p3,\"é o que você deve comprar\")\n",
    "elif (p2 < p3):\n",
    "    print(\" o segundo produto de R$\",p2,\"é o que você deve comprar\")\n",
    "else:\n",
    "    print(\" o terceiro produto de R$\",p3,\"é o que você deve comprar\")"
   ]
  },
  {
   "cell_type": "code",
   "execution_count": 36,
   "metadata": {},
   "outputs": [
    {
     "name": "stdout",
     "output_type": "stream",
     "text": [
      "345.0 \n",
      " 234.0 \n",
      " 12.0\n"
     ]
    }
   ],
   "source": [
    "#3º Faça um Programa que leia três números e mostre-os em ordem decrescente.\n",
    "\n",
    "n1 = float(input(\"me diga um numero\"))\n",
    "n2 = float(input(\"me diga outro numero\"))\n",
    "n3 = float(input(\"me diga outro numero\"))\n",
    "\n",
    "if (n1 > n2) and (n1 > n3) and (n2 > n3):\n",
    "    print (n1,\"\\n\", n2, \"\\n\" ,n3)\n",
    "elif (n1 > n2) and (n1 > n3) and (n3 > n2):\n",
    "    print (n1,\"\\n\", n3, \"\\n\" ,n2)\n",
    "elif (n2 > n1) and (n2 > n3) and (n3 > n1):\n",
    "    print (n2,\"\\n\", n3, \"\\n\" ,n1)\n",
    "elif (n2 > n1) and (n2 > n3) and (n1 > n3):\n",
    "    print (n2,\"\\n\", n1, \"\\n\" ,n3)\n",
    "elif (n3 > n1) and (n3 > n2) and (n2 > n1):\n",
    "    print (n3,\"\\n\", n2, \"\\n\" ,n1)\n",
    "else:\n",
    "    print (n3,\"\\n\", n1, \"\\n\" ,n2)\n"
   ]
  },
  {
   "cell_type": "code",
   "execution_count": 37,
   "metadata": {},
   "outputs": [
    {
     "name": "stdout",
     "output_type": "stream",
     "text": [
      "Bom Dia!\n"
     ]
    }
   ],
   "source": [
    "#4º Faça um Programa que pergunte em que turno você estuda. Peça para digitar M-matutino ou V-Vespertino ou N- Noturno. Imprima a mensagem “Bom Dia!”, “Boa Tarde!” ou “Boa Noite!” ou “Valor Inválido!”, conforme o caso.\n",
    "\n",
    "horario = input('me diga que turno você estuda sendo: \"M\" - matutino ; \"V\" - Vespertino ; \"N\" - Noturno')\n",
    "\n",
    "if (horario == \"M\"):\n",
    "    print(\"Bom Dia!\")\n",
    "elif (horario == \"V\"):\n",
    "    print(\"Boa Tarde!\")\n",
    "elif (horario == \"N\"):\n",
    "    print(\"Boa Noite!\")\n",
    "else:\n",
    "    print(\"Valor Inválido!\")\n",
    "\n"
   ]
  },
  {
   "cell_type": "code",
   "execution_count": 38,
   "metadata": {},
   "outputs": [
    {
     "name": "stdout",
     "output_type": "stream",
     "text": [
      "Hoje é Quarta\n"
     ]
    }
   ],
   "source": [
    "#5.1 Faça um Programa que leia um número e exiba o dia correspondente da semana. (1-Domingo, 2- Segunda, etc). Se for digitado outro valor deve retornar uma mensagem informando valor inválido.\n",
    "\n",
    "semana = input(\"Digite o dia da semana sendo 1-Domingo, 2- Segunda, etc\")\n",
    "\n",
    "if (semana == \"1\"):\n",
    "    print(\"Hoje é Domingo\")\n",
    "elif (semana == \"2\"):\n",
    "    print(\"Hoje é Segunda\")\n",
    "elif (semana == \"3\"):\n",
    "    print(\"Hoje é Terça\")\n",
    "elif (semana == \"4\"):\n",
    "    print(\"Hoje é Quarta\")\n",
    "elif (semana == \"5\"):\n",
    "    print(\"Hoje é Quinta\")\n",
    "elif (semana == \"6\"):\n",
    "    print(\"Hoje é Sexta\")\n",
    "elif (semana == \"7\"):\n",
    "    print(\"Hoje é Sabado\")\n",
    "else:\n",
    "    print(\"Valor Inválido!\")\n",
    "    \n"
   ]
  },
  {
   "cell_type": "code",
   "execution_count": 39,
   "metadata": {},
   "outputs": [
    {
     "name": "stdout",
     "output_type": "stream",
     "text": [
      "Sua primeira nota foi: 8.0 \n",
      " Sua segunda nota foi: 6.5 \n",
      " Sua media foi 7.25 e seu conceito foi \"C\" Parabéns você está APROVADO\n"
     ]
    }
   ],
   "source": [
    "#5.2º Faça um programa que leia as duas notas parciais obtidas por um aluno numa disciplina ao longo do semestre, e calcule a sua média. A atribuição de conceitos obedece às regras da tabela:\n",
    "\n",
    "#Média de Aproveitamento\tConceito\n",
    "#Entre 9.0 e 10.0\t           A\n",
    "#Entre 7.5 e 9.0\t           B\n",
    "#Entre 6.0 e 7.5\t           C\n",
    "#Entre 4.0 e 6.0\t           D\n",
    "#Entre 4.0 e zero\t           E\n",
    "\n",
    "#O programa deve mostrar na tela as notas, a média, o conceito correspondente e a mensagem “APROVADO” se o conceito for A, B ou C ou “REPROVADO” se o conceito for D ou E.\n",
    "\n",
    "nota1 = float(input(\"me diga sua primeira nota\"))\n",
    "nota2 = float(input(\"me diga segunda nota\"))\n",
    "\n",
    "media = ((nota1 + nota2) / 2)\n",
    "\n",
    "if media >= 9 and media <= 10:\n",
    "    print(f'Sua primeira nota foi: {nota1} \\n Sua segunda nota foi: {nota2} \\n Sua media foi {media} e seu conceito foi \"A\" Parabéns você está APROVADO')\n",
    "elif media >= 7.5 and media <= 8.9:\n",
    "    print(f'Sua primeira nota foi: {nota1} \\n Sua segunda nota foi: {nota2} \\n Sua media foi {media} e seu conceito foi \"B\" Parabéns você está APROVADO')\n",
    "elif media >= 6 and media <= 7.4:\n",
    "    print(f'Sua primeira nota foi: {nota1} \\n Sua segunda nota foi: {nota2} \\n Sua media foi {media} e seu conceito foi \"C\" Parabéns você está APROVADO')\n",
    "elif media >= 4 and media <= 5.9:\n",
    "    print(f'Sua primeira nota foi: {nota1} \\n Sua segunda nota foi: {nota2} \\n Sua media foi {media} e seu conceito foi \"D\" me desculpe você está REPROVADO')\n",
    "else:\n",
    "    print(f'Sua primeira nota foi: {nota1} \\n Sua segunda nota foi: {nota2} \\n Sua media foi {media} e seu conceito foi \"E\" me desculpe você está REPROVADO')"
   ]
  },
  {
   "cell_type": "code",
   "execution_count": 40,
   "metadata": {},
   "outputs": [
    {
     "name": "stdout",
     "output_type": "stream",
     "text": [
      "seu ano de 2024 é bissexto\n"
     ]
    }
   ],
   "source": [
    "#6º Faça um Programa que peça um número correspondente a um determinado ano e em seguida informe se este ano é ou não bissexto.\n",
    "\n",
    "ano = int(input(\"Me diga um ano\"))\n",
    "\n",
    "if ano % 100 == 0:\n",
    "    if ano % 400 == 0:\n",
    "        print(f\"seu ano de {ano} é bissexto\")\n",
    "    else:\n",
    "        print(f\"seu ano de {ano} não é bissexto\")\n",
    "elif ano % 4 == 0:\n",
    "    print(f\"seu ano de {ano} é bissexto\")\n",
    "else:\n",
    "    print(f\"seu ano de {ano} não é bissexto\")"
   ]
  },
  {
   "cell_type": "code",
   "execution_count": 41,
   "metadata": {},
   "outputs": [
    {
     "name": "stdout",
     "output_type": "stream",
     "text": [
      "resultado de 16.0 ^ 3.0 = 4096.0\n",
      " é um numero par, positivo e inteiro\n"
     ]
    }
   ],
   "source": [
    "#7º Faça um Programa que leia 2 números e em seguida pergunte ao usuário qual operação básica (soma, subtração, multiplicação, divisão, exponenciação) ele deseja realizar. O resultado da operação deve ser acompanhado de uma frase que diga se o número é: par ou ímpar, positivo ou negativo; inteiro ou decimal.\n",
    "\n",
    "num1 = float(input(\"escolha um numero\"))\n",
    "ope = input(\"digite a operação que você deseja, +, -, *, /, ** \")\n",
    "num2 = float(input(\"escolha outro numero\"))\n",
    "\n",
    "if (ope == \"+\"):\n",
    "    resp = num1 + num2\n",
    "    if resp % 2 == 0 and resp >= 0 and resp % 1 == 0:\n",
    "        print(f\"resultado de {num1} + {num2} = {resp}\\n é um numero par, positivo e inteiro\")\n",
    "    elif resp % 2 != 0 and resp >= 0 and resp % 1 == 0:\n",
    "        print(f\"resultado de {num1} + {num2} = {resp}\\n é um numero impar, positivo e inteiro\")\n",
    "    elif resp % 2 == 0 and resp < 0 and resp % 1 == 0:\n",
    "        print(f\"resultado de {num1} + {num2} = {resp}\\n é um numero par, negativo e inteiro\")\n",
    "    elif resp % 2 != 0 and resp < 0 and resp % 1 == 0:\n",
    "        print(f\"resultado de {num1} + {num2} = {resp}\\n é um numero impar, negativo e inteiro\")\n",
    "    elif resp > 0 and resp % 1 != 0:\n",
    "        print(f\"resultado de {num1} + {num2} = {resp}\\n é um numero positivo e decimal\")\n",
    "    else:\n",
    "        print(f\"resultado de {num1} + {num2} = {resp}\\n é um numero negativo e decimal\")\n",
    "\n",
    "elif (ope == \"-\"):\n",
    "    resp = num1 - num2\n",
    "    if resp % 2 == 0 and resp >= 0 and resp % 1 == 0:\n",
    "        print(f\"resultado de {num1} - {num2} = {resp}\\n é um numero par, positivo e inteiro\")\n",
    "    elif resp % 2 != 0 and resp >= 0 and resp % 1 == 0:\n",
    "        print(f\"resultado de {num1} - {num2} = {resp}\\n é um numero impar, positivo e inteiro\")\n",
    "    elif resp % 2 == 0 and resp < 0 and resp % 1 == 0:\n",
    "        print(f\"resultado de {num1} - {num2} = {resp}\\n é um numero par, negativo e inteiro\")\n",
    "    elif resp % 2 != 0 and resp < 0 and resp % 1 == 0:\n",
    "        print(f\"resultado de {num1} - {num2} = {resp}\\n é um numero impar, negativo e inteiro\")\n",
    "    elif resp > 0 and resp % 1 != 0:\n",
    "        print(f\"resultado de {num1} - {num2} = {resp}\\n é um numero positivo e decimal\")\n",
    "    else:\n",
    "        print(f\"resultado de {num1} - {num2} = {resp}\\n é um numero negativo e decimal\")\n",
    "\n",
    "elif (ope == \"*\"):\n",
    "    resp = num1 * num2\n",
    "    if resp % 2 == 0 and resp >= 0 and resp % 1 == 0:\n",
    "        print(f\"resultado de {num1} x {num2} = {resp}\\n é um numero par, positivo e inteiro\")\n",
    "    elif resp % 2 != 0 and resp >= 0 and resp % 1 == 0:\n",
    "        print(f\"resultado de {num1} x {num2} = {resp}\\n é um numero impar, positivo e inteiro\")\n",
    "    elif resp % 2 == 0 and resp < 0 and resp % 1 == 0:\n",
    "        print(f\"resultado de {num1} x {num2} = {resp}\\n é um numero par, negativo e inteiro\")\n",
    "    elif resp % 2 != 0 and resp < 0 and resp % 1 == 0:\n",
    "        print(f\"resultado de {num1} x {num2} = {resp}\\n é um numero impar, negativo e inteiro\")\n",
    "    elif resp > 0 and resp % 1 != 0:\n",
    "        print(f\"resultado de {num1} x {num2} = {resp}\\n é um numero positivo e decimal\")\n",
    "    else:\n",
    "        print(f\"resultado de {num1} x {num2} = {resp}\\n é um numero negativo e decimal\")\n",
    "\n",
    "elif (ope == \"/\"):\n",
    "    resp = num1 / num2\n",
    "    if resp % 2 == 0 and resp >= 0 and resp % 1 == 0:\n",
    "        print(f\"resultado de {num1} / {num2} = {resp}\\n é um numero par, positivo e inteiro\")\n",
    "    elif resp % 2 != 0 and resp >= 0 and resp % 1 == 0:\n",
    "        print(f\"resultado de {num1} / {num2} = {resp}\\n é um numero impar, positivo e inteiro\")\n",
    "    elif resp % 2 == 0 and resp < 0 and resp % 1 == 0:\n",
    "        print(f\"resultado de {num1} / {num2} = {resp}\\n é um numero par, negativo e inteiro\")\n",
    "    elif resp % 2 != 0 and resp < 0 and resp % 1 == 0:\n",
    "        print(f\"resultado de {num1} / {num2} = {resp}\\n é um numero impar, negativo e inteiro\")\n",
    "    elif resp > 0 and resp % 1 != 0:\n",
    "        print(f\"resultado de {num1} / {num2} = {resp}\\n é um numero positivo e decimal\")\n",
    "    else:\n",
    "        print(f\"resultado de {num1} / {num2} = {resp}\\n é um numero negativo e decimal\")\n",
    "\n",
    "elif (ope == \"**\"):\n",
    "    resp = num1 ** num2\n",
    "    if resp % 2 == 0 and resp >= 0 and resp % 1 == 0:\n",
    "        print(f\"resultado de {num1} ^ {num2} = {resp}\\n é um numero par, positivo e inteiro\")\n",
    "    elif resp % 2 != 0 and resp >= 0 and resp % 1 == 0:\n",
    "        print(f\"resultado de {num1} ^ {num2} = {resp}\\n é um numero impar, positivo e inteiro\")\n",
    "    elif resp % 2 == 0 and resp < 0 and resp % 1 == 0:\n",
    "        print(f\"resultado de {num1} ^ {num2} = {resp}\\n é um numero par, negativo e inteiro\")\n",
    "    elif resp % 2 != 0 and resp < 0 and resp % 1 == 0:\n",
    "        print(f\"resultado de {num1} ^ {num2} = {resp}\\n é um numero impar, negativo e inteiro\")\n",
    "    elif resp > 0 and resp % 1 != 0:\n",
    "        print(f\"resultado de {num1} ^ {num2} = {resp}\\n é um numero positivo e decimal\")\n",
    "    else:\n",
    "        print(f\"resultado de {num1} ^ {num2} = {resp}\\n é um numero negativo e decimal\")\n"
   ]
  },
  {
   "cell_type": "code",
   "execution_count": 42,
   "metadata": {},
   "outputs": [
    {
     "name": "stdout",
     "output_type": "stream",
     "text": [
      "você tem 18 anos de idade\n"
     ]
    }
   ],
   "source": [
    "#8º Faça um programa que peça a idade e exiba a informação. Os valores aceitáveis devem estar entre 0 e 150. Valores fora desse limite não poderão ser aceitos.\n",
    "\n",
    "idade = int(input(\"me diga a sua idade\"))\n",
    "\n",
    "if idade > 0 and idade < 150:\n",
    "    print(f\"você tem {idade} anos de idade\")\n",
    "else:\n",
    "    print(\"Valor Inválido!\")"
   ]
  },
  {
   "cell_type": "code",
   "execution_count": 43,
   "metadata": {},
   "outputs": [
    {
     "name": "stdout",
     "output_type": "stream",
     "text": [
      "a soma dos numeros é 29.0 e a media é 5.8\n"
     ]
    }
   ],
   "source": [
    "#9º Utilizando estruturas de repetição e listas (com ou sem .append), faça um programa que leia 5 números e informe a soma e a média dos números.\n",
    "\n",
    "soma = 0\n",
    "for nume in range(5):\n",
    "    n = float(input(\"me diga um numero\"))\n",
    "    soma += n\n",
    "media = soma / 5\n",
    "print(f\"a soma dos numeros é {soma} e a media é {media}\")"
   ]
  },
  {
   "cell_type": "code",
   "execution_count": 44,
   "metadata": {},
   "outputs": [
    {
     "name": "stdout",
     "output_type": "stream",
     "text": [
      "Seu numero primo = 13\n"
     ]
    }
   ],
   "source": [
    "#10º Faça um programa que peça um número inteiro e determine se ele é ou não um número primo. Um número primo é aquele que é divisível somente por ele mesmo e por 1.\n",
    "\n",
    "contadora = 0\n",
    "numInt = int(input('Digite um número inteiro:'))\n",
    "\n",
    "for primo in range (1, numInt+1):\n",
    "    if numInt %primo == 0:\n",
    "        contadora +=1\n",
    "if contadora == 2:\n",
    "    print(f'Seu numero primo = {numInt}')\n",
    "else:\n",
    "    print(f'Esse número não é primo {numInt}')"
   ]
  },
  {
   "cell_type": "code",
   "execution_count": 45,
   "metadata": {},
   "outputs": [
    {
     "name": "stdout",
     "output_type": "stream",
     "text": [
      "Sua temperatura média é: 29.0 °C \n",
      " Sua temperatura maior é: 45.0 °C \n",
      " Sua temperatura menor é: 13.0 °C\n"
     ]
    }
   ],
   "source": [
    "#11º O Departamento Estadual de Meteorologia lhe contratou para desenvolver um programa que leia 5 temperaturas, e informe ao final a menor e a maior temperaturas informadas, bem como a média das temperaturas.\n",
    "\n",
    "soma = 0\n",
    "for i in range(5):\n",
    "    temp = float(input('Digite uma temperatura:'))\n",
    "    soma += temp\n",
    "    if i == 0:\n",
    "        menor = maior = temp\n",
    "    if temp > maior:\n",
    "        maior = temp\n",
    "    if temp < menor:\n",
    "        menor = temp\n",
    "media = soma / 5\n",
    "print(f\"Sua temperatura média é: {media} °C \\n Sua temperatura maior é: {maior} °C \\n Sua temperatura menor é: {menor} °C\")"
   ]
  },
  {
   "cell_type": "code",
   "execution_count": 46,
   "metadata": {},
   "outputs": [
    {
     "name": "stdout",
     "output_type": "stream",
     "text": [
      "O saldo médio é igual a R$ 276.0 e o valor de crédito é R$ 55.2\n"
     ]
    }
   ],
   "source": [
    "#12º Problema 12: Um banco concederá um crédito especial aos seus clientes, variável com o saldo médio no último ano. Faça um algoritmo que leia o saldo médio de um cliente e calcule o valor do crédito de acordo com a tabela abaixo. Mostre uma mensagem informando o saldo médio e o valor do crédito.\n",
    "\n",
    "#Saldo médio\tPercentual\n",
    "#de 0 a 200\tnenhum crédito\n",
    "#de 201 a 400\t20% do valor do saldo médio\n",
    "#de 401 a 600\t30% do valor do saldo médio\n",
    "#acima de 601\t40% do valor do saldo médio\n",
    "\n",
    "total = 0\n",
    "\n",
    "saldoMedio = float(input('Digite o saldo medio'))\n",
    "if saldoMedio > 0 and saldoMedio <= 200:\n",
    "    print('Nenhum crédito')\n",
    "elif saldoMedio > 200 and saldoMedio <= 400:\n",
    "    total = (saldoMedio*0.20)\n",
    "    print(f'O saldo médio é igual a R$ {saldoMedio} e o valor de crédito é R$ {total}')\n",
    "elif saldoMedio > 400 and saldoMedio <= 600:\n",
    "    total = (saldoMedio*0.30)\n",
    "    print(f'O saldo médio é igual a R$ {saldoMedio} e o valor de crédito é R$ {total}')\n",
    "elif saldoMedio > 600:\n",
    "    total = (saldoMedio*0.40)\n",
    "    print(f'O saldo médio é igual a R$ {saldoMedio} e o valor de crédito é R$ {total}')"
   ]
  },
  {
   "cell_type": "code",
   "execution_count": 47,
   "metadata": {},
   "outputs": [
    {
     "name": "stdout",
     "output_type": "stream",
     "text": [
      "Nome: Lohan / Idade: 22\n",
      "Lohan você irá se aposentar em 2067.\n"
     ]
    }
   ],
   "source": [
    "#13º Você foi contratado(a) para fazer um serviço para o INSS (Instituto Nacional do Seguro Social) do Brasil. O trabalho consiste em criar um programa que diga à pessoa o ano que ela poderá se aposentar. Você deve perguntar à pessoa, o nome, a idade e criar uma mensagem dizendo em qual ano ela irá se aposentar. Considere que todas as pessoas poderão se aposentar aos 65 anos de idade(rs).\n",
    "\n",
    "nome = input('Qual o seu nome? ')\n",
    "idade = int(input('Qual a sua idade? '))\n",
    "\n",
    "ano = str((2024 - idade) + 65)\n",
    "print(f'Nome: {nome} / Idade: {idade}')\n",
    "print(f'{nome} você irá se aposentar em {ano}.')"
   ]
  },
  {
   "cell_type": "code",
   "execution_count": 48,
   "metadata": {},
   "outputs": [
    {
     "name": "stdout",
     "output_type": "stream",
     "text": [
      "========= FOLHA DE PAGAMENTO =========\n",
      "Seu salário bruto R$ 18000.0.\n",
      "(-) Sindicato (3%) R$ 540.0.\n",
      "(-) Valor descontado do IR (27.5%) R$ 4801.5.\n",
      "Salário Liquido R$ 12658.5.\n"
     ]
    }
   ],
   "source": [
    "#14º Faça um programa para o cálculo de uma folha de pagamento, sabendo que os descontos são do imposto de Renda, que depende do salário bruto (conforme tabela abaixo), 3% para o Sindicato e que o FGTS corresponde a 11% do salário bruto, mas não é descontado (é a empresa que deposita). O salário líquido corresponde ao salário bruto menos os descontos. O programa deverá pedir ao usuário o valor da sua hora e a quantidade de horas trabalhadas no mês.\n",
    "\n",
    "#Desconto do IR:\n",
    "#Salário Bruto até R$ 2.112,00(inclusive) – Isento;\n",
    "#De 2.112,01 até 2.826,65(inclusive) – desconto de 7.5%;\n",
    "#De 2.826,66 até 3.751,05(inclusive) – desconto de 15%;\n",
    "#De 3.751,06 até 4.664,68(inclusive) – desconto de 22.5%;\n",
    "#Acima de 4.664,68 – desconto de 27.5%.\n",
    "\n",
    "valorHora = float(input('Qual o valor da sua Hora? '))\n",
    "qtdhora = float(input('Qual a quantidades de horas trabalhadas? '))\n",
    "\n",
    "salarioBruto = valorHora*qtdhora \n",
    "\n",
    "if salarioBruto <= 2112.00:\n",
    "    salarioliquidoS = salarioBruto - (salarioBruto*0.03)\n",
    "    salarioliquidoIR = salarioliquidoS\n",
    "elif salarioBruto > 2112.00 and salarioBruto <= 2826.65:\n",
    "    x = 7.5\n",
    "    salarioliquidoS = salarioBruto - (salarioBruto*0.03)\n",
    "    salarioliquidoIR = salarioliquidoS - (salarioliquidoS*(x/100))\n",
    "elif salarioBruto > 2826.65 and salarioBruto <= 3751.05:\n",
    "    x = 15\n",
    "    salarioliquidoS = salarioBruto - (salarioBruto*0.03)\n",
    "    salarioliquidoIR =  salarioliquidoS - (salarioliquidoS*(x/100))\n",
    "elif salarioBruto > 3751.05 and salarioBruto <= 4664.68:\n",
    "    x = 22.5\n",
    "    salarioliquidoS = salarioBruto - (salarioBruto*0.03)\n",
    "    salarioliquidoIR = salarioliquidoS - (salarioliquidoS*(x/100))\n",
    "elif salarioBruto > 4664.68:\n",
    "    x = 27.5\n",
    "    salarioliquidoS = salarioBruto - (salarioBruto*0.03)\n",
    "    salarioliquidoIR =  salarioliquidoS - (salarioliquidoS*(x/100))\n",
    "else:\n",
    "    print(\"Informação Incorreta\")\n",
    "\n",
    "\n",
    "\n",
    "salarioSINDICATO = salarioBruto*(3/100)\n",
    "salarioLiquidoPX = (salarioBruto - salarioSINDICATO)\n",
    "salarioTOTAL = salarioLiquidoPX*(x/100)   \n",
    "salarioliquidoFinal = salarioliquidoIR\n",
    "\n",
    "\n",
    "print('========= FOLHA DE PAGAMENTO =========')\n",
    "print(f'Seu salário bruto R$ {salarioBruto}.')\n",
    "print(f'(-) Sindicato (3%) R$ {salarioSINDICATO}.')\n",
    "print(f'(-) Valor descontado do IR ({x}%) R$ {salarioTOTAL}.')\n",
    "print(f'Salário Liquido R$ {salarioliquidoIR}.')"
   ]
  }
 ],
 "metadata": {
  "kernelspec": {
   "display_name": "Python 3",
   "language": "python",
   "name": "python3"
  },
  "language_info": {
   "codemirror_mode": {
    "name": "ipython",
    "version": 3
   },
   "file_extension": ".py",
   "mimetype": "text/x-python",
   "name": "python",
   "nbconvert_exporter": "python",
   "pygments_lexer": "ipython3",
   "version": "3.11.9"
  }
 },
 "nbformat": 4,
 "nbformat_minor": 2
}
