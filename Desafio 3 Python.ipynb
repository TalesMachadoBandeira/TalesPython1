{
 "cells": [
  {
   "cell_type": "code",
   "execution_count": 1,
   "metadata": {},
   "outputs": [
    {
     "name": "stdout",
     "output_type": "stream",
     "text": [
      "\n",
      " 5 patinhos foram passear \n",
      " Além das montanhas para brincar \n",
      " A mamãe gritou: Quá, quá, quá, quá \n",
      " Mas só 4 voltaram de lá.\n",
      "\n",
      " 4 patinhos foram passear \n",
      " Além das montanhas para brincar \n",
      " A mamãe gritou: Quá, quá, quá, quá \n",
      " Mas só 3 voltaram de lá.\n",
      "\n",
      " 3 patinhos foram passear \n",
      " Além das montanhas para brincar \n",
      " A mamãe gritou: Quá, quá, quá, quá \n",
      " Mas só 2 voltaram de lá.\n",
      "\n",
      " 2 patinhos foram passear \n",
      " Além das montanhas para brincar \n",
      " A mamãe gritou: Quá, quá, quá, quá \n",
      " Mas só 1 voltaram de lá.\n",
      "\n",
      " 1 patinhos foram passear \n",
      " Além das montanhas para brincar \n",
      " A mamãe gritou: Quá, quá, quá, quá \n",
      " Mas só 0 voltaram de lá.\n",
      "\n",
      " A mamãe patinha foi procurar \n",
      " Além das montanhas na beira do mar\n",
      " A mamãe gritou: Quá, quá, quá, quá\n",
      " E os 5 patinhos voltaram de lá.\n"
     ]
    }
   ],
   "source": [
    "patos = 5\n",
    "while patos > 0:\n",
    "    print(\"\\n\", patos, \"patinhos foram passear\", \"\\n Além das montanhas para brincar\",\"\\n A mamãe gritou: Quá, quá, quá, quá\",\"\\n Mas só\", patos-1, \"voltaram de lá.\"   )\n",
    "    patos -=1\n",
    "print(\"\\n A mamãe patinha foi procurar\",\"\\n Além das montanhas na beira do mar\" \"\\n A mamãe gritou: Quá, quá, quá, quá\" \"\\n E os 5 patinhos voltaram de lá.\")"
   ]
  },
  {
   "cell_type": "code",
   "execution_count": 20,
   "metadata": {},
   "outputs": [
    {
     "name": "stdout",
     "output_type": "stream",
     "text": [
      "Sua tabuada do 0 é:\n",
      "0 x 0 = 0\n",
      "0 x 1 = 0\n",
      "0 x 2 = 0\n",
      "0 x 3 = 0\n",
      "0 x 4 = 0\n",
      "0 x 5 = 0\n",
      "0 x 6 = 0\n",
      "0 x 7 = 0\n",
      "0 x 8 = 0\n",
      "0 x 9 = 0\n",
      "0 x 10 = 0\n"
     ]
    }
   ],
   "source": [
    "num = int(input(\"digite um numero inteiro para eu calcular a tabuada?\"))\n",
    "tabua = 0\n",
    "\n",
    "print (\"Sua tabuada do\",num, \"é:\")\n",
    "while tabua <= 10:\n",
    "    print(num, \"x\", tabua, \"=\", num * tabua)\n",
    "    tabua += 1\n"
   ]
  }
 ],
 "metadata": {
  "kernelspec": {
   "display_name": "Python 3",
   "language": "python",
   "name": "python3"
  },
  "language_info": {
   "codemirror_mode": {
    "name": "ipython",
    "version": 3
   },
   "file_extension": ".py",
   "mimetype": "text/x-python",
   "name": "python",
   "nbconvert_exporter": "python",
   "pygments_lexer": "ipython3",
   "version": "3.10.11"
  }
 },
 "nbformat": 4,
 "nbformat_minor": 2
}
